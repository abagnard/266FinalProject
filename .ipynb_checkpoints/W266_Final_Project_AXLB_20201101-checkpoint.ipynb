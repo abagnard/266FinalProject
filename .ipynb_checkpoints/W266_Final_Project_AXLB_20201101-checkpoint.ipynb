{
 "cells": [
  {
   "cell_type": "markdown",
   "metadata": {
    "colab_type": "text",
    "id": "view-in-github"
   },
   "source": [
    "<a href=\"https://colab.research.google.com/github/abagnard/266FinalProject/blob/main/W266_Final_Project.ipynb\" target=\"_parent\"><img src=\"https://colab.research.google.com/assets/colab-badge.svg\" alt=\"Open In Colab\"/></a>"
   ]
  },
  {
   "cell_type": "code",
   "execution_count": 12,
   "metadata": {
    "id": "NuEJmWAVrVGQ"
   },
   "outputs": [],
   "source": [
    "\n",
    "import os, sys, re, csv, json, time, unittest\n",
    "import itertools, collections\n",
    "from importlib import reload\n",
    "\n",
    "import numpy as np\n",
    "from scipy import stats\n",
    "import pandas as pd\n",
    "\n",
    "import nltk\n",
    "\n"
   ]
  },
  {
   "cell_type": "markdown",
   "metadata": {
    "id": "gife_RnBTLVV"
   },
   "source": [
    "#FOMC Data Scraper\n",
    "\n",
    "###Links to Data:\n",
    "**Start-2014:** https://www.federalreserve.gov/monetarypolicy/fomc_historical_year.htm\n",
    "**2015-2020:** https://www.federalreserve.gov/monetarypolicy/fomccalendars.htm\n",
    "\n",
    "###2010-2020 General Link Format:\n",
    "  **Statement/Press Release:** https://www.federalreserve.gov/newsevents/pressreleases/monetaryYYYYMMDDa.htm\n",
    "\n",
    "**Minutes:** https://www.federalreserve.gov/monetarypolicy/fomcminutesYYYYMMDD.htm"
   ]
  },
  {
   "cell_type": "code",
   "execution_count": 13,
   "metadata": {
    "id": "sDk_UtX7rxHQ"
   },
   "outputs": [],
   "source": [
    "from   bs4    import BeautifulSoup\n",
    "from   urllib.request import urlopen\n",
    "\n",
    "def getFOMCStatementURL(date):\n",
    "  if date >= 20100000:\n",
    "    url = \"https://www.federalreserve.gov/newsevents/pressreleases/monetary\" + str(date) + \"a.htm\"\n",
    "  return url\n",
    "\n",
    "def getFOMCMinutesURL(date):\n",
    "  if date >= 20100000:\n",
    "    url = \"https://www.federalreserve.gov/monetarypolicy/fomcminutes\" + str(date) + \".htm\"\n",
    "  return url\n",
    "\n",
    "def getFOMCStatementData(date):\n",
    "    html = urlopen(getFOMCStatementURL(date)).read()\n",
    "    soup = BeautifulSoup(html)\n",
    "    text = soup.get_text(\" \")\n",
    "    if int(date) < 20200400:\n",
    "        startLocation = re.search(\"Information received since\", text).start()\n",
    "    else:\n",
    "        startLocation = re.search(\"The Federal Reserve is committed\", text).start()\n",
    "    endLocation = re.search(\"Voting for\", text).start()\n",
    "\n",
    "    statementText = text[startLocation : endLocation]\n",
    "    return statementText\n",
    "\n",
    "def getFOMCMinutesData(date):\n",
    "  html = urlopen(getFOMCMinutesURL(date)).read()\n",
    "  soup = BeautifulSoup(html)\n",
    "  text = soup.get_text(\" \")\n",
    "\n",
    "  startLocation = re.search(\"Minutes of the Federal Open Market Committee\", text).start() + len(\"Minutes of the Federal Open Market Committee\")\n",
    "  endLocation = re.search(\"notation vote\", text).start()\n",
    "\n",
    "  minutesText = text[startLocation : endLocation]\n",
    "  return minutesText\n"
   ]
  },
  {
   "cell_type": "code",
   "execution_count": 3,
   "metadata": {
    "colab": {
     "base_uri": "https://localhost:8080/",
     "height": 130
    },
    "id": "sTkhJhPFmPPb",
    "outputId": "49342531-8e55-4e0f-f6ab-64359c1c945f"
   },
   "outputs": [],
   "source": [
    "# from google.colab import drive\n",
    "# drive.mount('/content/drive')\n"
   ]
  },
  {
   "cell_type": "code",
   "execution_count": 4,
   "metadata": {
    "id": "AHK_3O9xkH8R"
   },
   "outputs": [],
   "source": [
    "dates = [20100127\n",
    ",20100316\n",
    ",20100428]\n",
    "# for date in dates:\n",
    "#   print(\"Statement on \", date)\n",
    "#   print(getFOMCStatementData(date))\n",
    "\n",
    "\n",
    "# for date in dates:\n",
    "#   print(\"Minutes on \", date)\n",
    "#   print(getFOMCMinutesData(date))\n"
   ]
  },
  {
   "cell_type": "markdown",
   "metadata": {
    "id": "UF2pao95pO5w"
   },
   "source": [
    "Pull Dates from Google Sheet"
   ]
  },
  {
   "cell_type": "code",
   "execution_count": 5,
   "metadata": {
    "id": "eRpPsAbMpOLY"
   },
   "outputs": [],
   "source": [
    "# Code Source\n",
    "# https://medium.com/analytics-vidhya/colab-and-google-sheets-surprisingly-powerful-combination-for-data-science-part-1-bbbb11cbd8e\n",
    "\n",
    "# from google.colab import auth\n",
    "# auth.authenticate_user()\n",
    "# import gspread\n",
    "# from oauth2client.client import GoogleCredentials\n",
    "# gc = gspread.authorize(GoogleCredentials.get_application_default())"
   ]
  },
  {
   "cell_type": "code",
   "execution_count": 6,
   "metadata": {
    "colab": {
     "base_uri": "https://localhost:8080/",
     "height": 204
    },
    "id": "9O0A2hoLp_Tg",
    "outputId": "f1429e0d-63d2-4af8-c678-1e4b4155176a"
   },
   "outputs": [],
   "source": [
    "# date_google_sheet_url = gc.open_by_url(\"https://docs.google.com/spreadsheets/d/1Q9_JimVaDffFe8U4SYQ_VLU9-1aeuFXlDZhvTsFD0kg/edit#gid=1023419829\")\n",
    "# date_google_sheet = date_google_sheet_url.worksheet(\"Dates\")\n",
    "# date_data_raw = date_google_sheet.get_all_values()\n",
    "\n",
    "# df_date = pd.DataFrame(date_data_raw)\n",
    "# df_date.columns = df_date.iloc[0]\n",
    "# df_date = df_date.iloc[1:]\n",
    "\n",
    "# df_date.head()\n",
    "# dates = df_date[\"Date\"].values.tolist()"
   ]
  },
  {
   "cell_type": "code",
   "execution_count": 14,
   "metadata": {},
   "outputs": [
    {
     "data": {
      "text/html": [
       "<div>\n",
       "<style scoped>\n",
       "    .dataframe tbody tr th:only-of-type {\n",
       "        vertical-align: middle;\n",
       "    }\n",
       "\n",
       "    .dataframe tbody tr th {\n",
       "        vertical-align: top;\n",
       "    }\n",
       "\n",
       "    .dataframe thead th {\n",
       "        text-align: right;\n",
       "    }\n",
       "</style>\n",
       "<table border=\"1\" class=\"dataframe\">\n",
       "  <thead>\n",
       "    <tr style=\"text-align: right;\">\n",
       "      <th></th>\n",
       "      <th>Date</th>\n",
       "      <th>PressConference</th>\n",
       "    </tr>\n",
       "  </thead>\n",
       "  <tbody>\n",
       "    <tr>\n",
       "      <th>0</th>\n",
       "      <td>20100127</td>\n",
       "      <td>0</td>\n",
       "    </tr>\n",
       "    <tr>\n",
       "      <th>1</th>\n",
       "      <td>20100316</td>\n",
       "      <td>0</td>\n",
       "    </tr>\n",
       "    <tr>\n",
       "      <th>2</th>\n",
       "      <td>20100428</td>\n",
       "      <td>0</td>\n",
       "    </tr>\n",
       "    <tr>\n",
       "      <th>3</th>\n",
       "      <td>20100623</td>\n",
       "      <td>0</td>\n",
       "    </tr>\n",
       "    <tr>\n",
       "      <th>4</th>\n",
       "      <td>20100810</td>\n",
       "      <td>0</td>\n",
       "    </tr>\n",
       "  </tbody>\n",
       "</table>\n",
       "</div>"
      ],
      "text/plain": [
       "       Date  PressConference\n",
       "0  20100127                0\n",
       "1  20100316                0\n",
       "2  20100428                0\n",
       "3  20100623                0\n",
       "4  20100810                0"
      ]
     },
     "execution_count": 14,
     "metadata": {},
     "output_type": "execute_result"
    }
   ],
   "source": [
    "df_date = pd.read_csv(\"data/FOMC_data/FOMC_meeting_dates.csv\")\n",
    "\n",
    "df_date.head()\n",
    "# dates = df_date[\"Date\"].values.tolist()"
   ]
  },
  {
   "cell_type": "code",
   "execution_count": 15,
   "metadata": {
    "id": "p9vEQUY9qfZ9"
   },
   "outputs": [],
   "source": [
    "def createFOMCStatementTextFile(file_path):\n",
    "#   file_path = \"/content/drive/My Drive/W266 - NLP/Final Project/data/FOMC_data/FOMC_Raw/\"\n",
    "#     file_path = \"data/FOMC_data/FOMC_data_raw/\"\n",
    "    for date in dates:\n",
    "        print(\"Creating Text File: Statement - \", date)\n",
    "        data = getFOMCStatementData(date)\n",
    "        filename = \"FOMCStatement_\" + str(date) + \".txt\"\n",
    "        file = open(file_path+filename, \"w\")\n",
    "        file.write(data)\n",
    "        file.close\n",
    "\n",
    "        \n",
    "def createFOMCMinutesTextFile(file_path):\n",
    "#   file_path = \"/content/drive/My Drive/W266 - NLP/Final Project/data/FOMC_data/FOMC_Raw/\"\n",
    "#     file_path = \"data/FOMC_data/FOMC_data_raw/\"\n",
    "    for date in dates:\n",
    "        print(\"Creating Text File: Minute - \", date)\n",
    "        data = getFOMCMinutesData(date)\n",
    "        filename = \"FOMCMinutes_\" + str(date) + \".txt\"\n",
    "        file = open(file_path+filename, \"w\")\n",
    "        file.write(data)\n",
    "        file.close\n",
    "        \n",
    "# createFOMCStatementTextFile(file_path = \"data/FOMC_data/FOMC_data_raw/\")\n",
    "# createFOMCMinutesTextFile(file_path = \"data/FOMC_data/FOMC_data_raw/\")"
   ]
  },
  {
   "cell_type": "code",
   "execution_count": 9,
   "metadata": {
    "colab": {
     "base_uri": "https://localhost:8080/",
     "height": 235
    },
    "id": "AAMg-LHzsuus",
    "outputId": "ea61ddc3-a3f2-47bf-c0fb-cb6f396e10a6"
   },
   "outputs": [
    {
     "ename": "ModuleNotFoundError",
     "evalue": "No module named 'google.colab'",
     "output_type": "error",
     "traceback": [
      "\u001b[0;31m---------------------------------------------------------------------------\u001b[0m",
      "\u001b[0;31mModuleNotFoundError\u001b[0m                       Traceback (most recent call last)",
      "\u001b[0;32m<ipython-input-9-5c0d26171e96>\u001b[0m in \u001b[0;36m<module>\u001b[0;34m\u001b[0m\n\u001b[0;32m----> 1\u001b[0;31m \u001b[0;32mfrom\u001b[0m \u001b[0mgoogle\u001b[0m\u001b[0;34m.\u001b[0m\u001b[0mcolab\u001b[0m \u001b[0;32mimport\u001b[0m \u001b[0mdrive\u001b[0m\u001b[0;34m\u001b[0m\u001b[0;34m\u001b[0m\u001b[0m\n\u001b[0m\u001b[1;32m      2\u001b[0m \u001b[0mdrive\u001b[0m\u001b[0;34m.\u001b[0m\u001b[0mmount\u001b[0m\u001b[0;34m(\u001b[0m\u001b[0;34m'/content/drive'\u001b[0m\u001b[0;34m)\u001b[0m\u001b[0;34m\u001b[0m\u001b[0;34m\u001b[0m\u001b[0m\n\u001b[1;32m      3\u001b[0m \u001b[0;31m# cd /content/drive/'My Drive'/'W266 - NLP'/'Final Project'\u001b[0m\u001b[0;34m\u001b[0m\u001b[0;34m\u001b[0m\u001b[0;34m\u001b[0m\u001b[0m\n",
      "\u001b[0;31mModuleNotFoundError\u001b[0m: No module named 'google.colab'"
     ]
    }
   ],
   "source": [
    "from google.colab import drive\n",
    "drive.mount('/content/drive')\n",
    "# cd /content/drive/'My Drive'/'W266 - NLP'/'Final Project'"
   ]
  },
  {
   "cell_type": "code",
   "execution_count": 16,
   "metadata": {
    "id": "5I1OFda3tSrh"
   },
   "outputs": [],
   "source": [
    "def cleanFOMCDocument(raw_file_name):\n",
    "    raw_data = open(raw_file_name,\"r\").read().lower()\n",
    "    clean_data = raw_data\n",
    "    for todelete in [\"\\r\\n\", \"\\n\", \"\\t\", \",\", \"-\", \";\", \":\", \"  \"]:\n",
    "        clean_data = clean_data.replace(todelete, ' ')\n",
    "    return clean_data\n",
    "\n",
    "import glob\n",
    "raw_file_names = glob.glob('data/FOMC_data/FOMC_data_raw/*.txt')\n",
    "\n",
    "def createCleanFOMCTextFiles(raw_file_names):\n",
    "    file_path = 'data/FOMC_data/FOMC_data_clean/'\n",
    "    \n",
    "    for raw_file_name in raw_file_names:\n",
    "        file_name = raw_file_name.split('/')[-1]\n",
    "        print(\"Creating Text File: \", file_name)\n",
    "        data = cleanFOMCDocument(raw_file_name)\n",
    "        \n",
    "        file = open(file_path+file_name, \"w\")\n",
    "        file.write(data)\n",
    "        file.close\n",
    "        \n",
    "# createCleanFOMCTextFiles(raw_file_names)\n"
   ]
  },
  {
   "cell_type": "code",
   "execution_count": 17,
   "metadata": {},
   "outputs": [],
   "source": [
    "clean_file_names = glob.glob('data/FOMC_data/FOMC_data_clean/*.txt')\n",
    "\n",
    "FOMC_records = []\n",
    "for clean_file_name in clean_file_names:\n",
    "    date = clean_file_name.split('/')[-1].split('_')[-1][:-4]\n",
    "    file_type = 'minutes' if 'Minutes' in clean_file_name else 'statement'\n",
    "    press_conference = df_date[df_date['Date'] == int(date)].iloc[0]['PressConference']\n",
    "    data = open(clean_file_name).read()\n",
    "    \n",
    "    FOMC_record = {'FOMC_date': date, 'document_type': file_type, 'press_conference': press_conference, 'document_data': data}\n",
    "    FOMC_records.append(FOMC_record)\n",
    "\n",
    "\n",
    "df_FOMC = pd.DataFrame(FOMC_records)\n",
    "    "
   ]
  },
  {
   "cell_type": "code",
   "execution_count": 18,
   "metadata": {
    "id": "-PMF4hGzr8dy"
   },
   "outputs": [
    {
     "data": {
      "text/html": [
       "<div>\n",
       "<style scoped>\n",
       "    .dataframe tbody tr th:only-of-type {\n",
       "        vertical-align: middle;\n",
       "    }\n",
       "\n",
       "    .dataframe tbody tr th {\n",
       "        vertical-align: top;\n",
       "    }\n",
       "\n",
       "    .dataframe thead th {\n",
       "        text-align: right;\n",
       "    }\n",
       "</style>\n",
       "<table border=\"1\" class=\"dataframe\">\n",
       "  <thead>\n",
       "    <tr style=\"text-align: right;\">\n",
       "      <th></th>\n",
       "      <th>FOMC_date</th>\n",
       "      <th>document_data</th>\n",
       "      <th>document_type</th>\n",
       "      <th>press_conference</th>\n",
       "    </tr>\n",
       "  </thead>\n",
       "  <tbody>\n",
       "    <tr>\n",
       "      <th>0</th>\n",
       "      <td>2011-01-26</td>\n",
       "      <td>information received since the federal open ma...</td>\n",
       "      <td>statement</td>\n",
       "      <td>0</td>\n",
       "    </tr>\n",
       "    <tr>\n",
       "      <th>1</th>\n",
       "      <td>2013-06-19</td>\n",
       "      <td>information received since the federal open ma...</td>\n",
       "      <td>statement</td>\n",
       "      <td>1</td>\n",
       "    </tr>\n",
       "    <tr>\n",
       "      <th>2</th>\n",
       "      <td>2017-07-26</td>\n",
       "      <td>july 25 26 2017  a joint meeting of the fed...</td>\n",
       "      <td>minutes</td>\n",
       "      <td>0</td>\n",
       "    </tr>\n",
       "    <tr>\n",
       "      <th>3</th>\n",
       "      <td>2017-02-01</td>\n",
       "      <td>information received since the federal open ma...</td>\n",
       "      <td>statement</td>\n",
       "      <td>0</td>\n",
       "    </tr>\n",
       "    <tr>\n",
       "      <th>4</th>\n",
       "      <td>2018-01-31</td>\n",
       "      <td>information received since the federal open ma...</td>\n",
       "      <td>statement</td>\n",
       "      <td>0</td>\n",
       "    </tr>\n",
       "  </tbody>\n",
       "</table>\n",
       "</div>"
      ],
      "text/plain": [
       "   FOMC_date                                      document_data document_type  \\\n",
       "0 2011-01-26  information received since the federal open ma...     statement   \n",
       "1 2013-06-19  information received since the federal open ma...     statement   \n",
       "2 2017-07-26     july 25 26 2017  a joint meeting of the fed...       minutes   \n",
       "3 2017-02-01  information received since the federal open ma...     statement   \n",
       "4 2018-01-31  information received since the federal open ma...     statement   \n",
       "\n",
       "   press_conference  \n",
       "0                 0  \n",
       "1                 1  \n",
       "2                 0  \n",
       "3                 0  \n",
       "4                 0  "
      ]
     },
     "execution_count": 18,
     "metadata": {},
     "output_type": "execute_result"
    }
   ],
   "source": [
    "df_FOMC.FOMC_date = pd.to_datetime(df_FOMC.FOMC_date, format='%Y%m%d')\n",
    "df_FOMC.head()"
   ]
  },
  {
   "cell_type": "code",
   "execution_count": 20,
   "metadata": {},
   "outputs": [
    {
     "data": {
      "text/html": [
       "<div>\n",
       "<style scoped>\n",
       "    .dataframe tbody tr th:only-of-type {\n",
       "        vertical-align: middle;\n",
       "    }\n",
       "\n",
       "    .dataframe tbody tr th {\n",
       "        vertical-align: top;\n",
       "    }\n",
       "\n",
       "    .dataframe thead th {\n",
       "        text-align: right;\n",
       "    }\n",
       "</style>\n",
       "<table border=\"1\" class=\"dataframe\">\n",
       "  <thead>\n",
       "    <tr style=\"text-align: right;\">\n",
       "      <th></th>\n",
       "      <th>FOMC_date</th>\n",
       "      <th>document_data</th>\n",
       "      <th>document_type</th>\n",
       "      <th>press_conference</th>\n",
       "    </tr>\n",
       "  </thead>\n",
       "  <tbody>\n",
       "    <tr>\n",
       "      <th>count</th>\n",
       "      <td>172</td>\n",
       "      <td>172</td>\n",
       "      <td>172</td>\n",
       "      <td>172.000000</td>\n",
       "    </tr>\n",
       "    <tr>\n",
       "      <th>unique</th>\n",
       "      <td>86</td>\n",
       "      <td>172</td>\n",
       "      <td>2</td>\n",
       "      <td>NaN</td>\n",
       "    </tr>\n",
       "    <tr>\n",
       "      <th>top</th>\n",
       "      <td>2018-01-31 00:00:00</td>\n",
       "      <td>information received since the federal open ma...</td>\n",
       "      <td>statement</td>\n",
       "      <td>NaN</td>\n",
       "    </tr>\n",
       "    <tr>\n",
       "      <th>freq</th>\n",
       "      <td>2</td>\n",
       "      <td>1</td>\n",
       "      <td>86</td>\n",
       "      <td>NaN</td>\n",
       "    </tr>\n",
       "    <tr>\n",
       "      <th>first</th>\n",
       "      <td>2010-01-27 00:00:00</td>\n",
       "      <td>NaN</td>\n",
       "      <td>NaN</td>\n",
       "      <td>NaN</td>\n",
       "    </tr>\n",
       "    <tr>\n",
       "      <th>last</th>\n",
       "      <td>2020-09-16 00:00:00</td>\n",
       "      <td>NaN</td>\n",
       "      <td>NaN</td>\n",
       "      <td>NaN</td>\n",
       "    </tr>\n",
       "    <tr>\n",
       "      <th>mean</th>\n",
       "      <td>NaN</td>\n",
       "      <td>NaN</td>\n",
       "      <td>NaN</td>\n",
       "      <td>0.534884</td>\n",
       "    </tr>\n",
       "    <tr>\n",
       "      <th>std</th>\n",
       "      <td>NaN</td>\n",
       "      <td>NaN</td>\n",
       "      <td>NaN</td>\n",
       "      <td>0.500238</td>\n",
       "    </tr>\n",
       "    <tr>\n",
       "      <th>min</th>\n",
       "      <td>NaN</td>\n",
       "      <td>NaN</td>\n",
       "      <td>NaN</td>\n",
       "      <td>0.000000</td>\n",
       "    </tr>\n",
       "    <tr>\n",
       "      <th>25%</th>\n",
       "      <td>NaN</td>\n",
       "      <td>NaN</td>\n",
       "      <td>NaN</td>\n",
       "      <td>0.000000</td>\n",
       "    </tr>\n",
       "    <tr>\n",
       "      <th>50%</th>\n",
       "      <td>NaN</td>\n",
       "      <td>NaN</td>\n",
       "      <td>NaN</td>\n",
       "      <td>1.000000</td>\n",
       "    </tr>\n",
       "    <tr>\n",
       "      <th>75%</th>\n",
       "      <td>NaN</td>\n",
       "      <td>NaN</td>\n",
       "      <td>NaN</td>\n",
       "      <td>1.000000</td>\n",
       "    </tr>\n",
       "    <tr>\n",
       "      <th>max</th>\n",
       "      <td>NaN</td>\n",
       "      <td>NaN</td>\n",
       "      <td>NaN</td>\n",
       "      <td>1.000000</td>\n",
       "    </tr>\n",
       "  </tbody>\n",
       "</table>\n",
       "</div>"
      ],
      "text/plain": [
       "                  FOMC_date  \\\n",
       "count                   172   \n",
       "unique                   86   \n",
       "top     2018-01-31 00:00:00   \n",
       "freq                      2   \n",
       "first   2010-01-27 00:00:00   \n",
       "last    2020-09-16 00:00:00   \n",
       "mean                    NaN   \n",
       "std                     NaN   \n",
       "min                     NaN   \n",
       "25%                     NaN   \n",
       "50%                     NaN   \n",
       "75%                     NaN   \n",
       "max                     NaN   \n",
       "\n",
       "                                            document_data document_type  \\\n",
       "count                                                 172           172   \n",
       "unique                                                172             2   \n",
       "top     information received since the federal open ma...     statement   \n",
       "freq                                                    1            86   \n",
       "first                                                 NaN           NaN   \n",
       "last                                                  NaN           NaN   \n",
       "mean                                                  NaN           NaN   \n",
       "std                                                   NaN           NaN   \n",
       "min                                                   NaN           NaN   \n",
       "25%                                                   NaN           NaN   \n",
       "50%                                                   NaN           NaN   \n",
       "75%                                                   NaN           NaN   \n",
       "max                                                   NaN           NaN   \n",
       "\n",
       "        press_conference  \n",
       "count         172.000000  \n",
       "unique               NaN  \n",
       "top                  NaN  \n",
       "freq                 NaN  \n",
       "first                NaN  \n",
       "last                 NaN  \n",
       "mean            0.534884  \n",
       "std             0.500238  \n",
       "min             0.000000  \n",
       "25%             0.000000  \n",
       "50%             1.000000  \n",
       "75%             1.000000  \n",
       "max             1.000000  "
      ]
     },
     "execution_count": 20,
     "metadata": {},
     "output_type": "execute_result"
    }
   ],
   "source": [
    "df_FOMC.describe(include='all')"
   ]
  },
  {
   "cell_type": "code",
   "execution_count": 22,
   "metadata": {},
   "outputs": [
    {
     "name": "stdout",
     "output_type": "stream",
     "text": [
      "['and', 'as', 'at', 'committee', 'economic', 'federal', 'for', 'in', 'inflation', 'market', 'of', 'on', 'participants', 'policy', 'rate', 'that', 'the', 'to', 'was', 'with']\n",
      "  (0, 0)\t15\n",
      "  (0, 1)\t3\n",
      "  (0, 2)\t4\n",
      "  (0, 3)\t9\n",
      "  (0, 4)\t5\n",
      "  (0, 5)\t3\n",
      "  (0, 6)\t3\n",
      "  (0, 7)\t8\n",
      "  (0, 8)\t7\n",
      "  (0, 9)\t2\n",
      "  (0, 10)\t14\n",
      "  (0, 11)\t1\n",
      "  (0, 13)\t2\n",
      "  (0, 14)\t4\n",
      "  (0, 15)\t6\n",
      "  (0, 16)\t24\n",
      "  (0, 17)\t19\n",
      "  (0, 19)\t4\n",
      "  (1, 0)\t23\n",
      "  (1, 1)\t7\n",
      "  (1, 2)\t9\n",
      "  (1, 3)\t18\n",
      "  (1, 4)\t7\n",
      "  (1, 5)\t3\n",
      "  (1, 6)\t6\n",
      "  :\t:\n",
      "  (170, 10)\t24\n",
      "  (170, 11)\t3\n",
      "  (170, 13)\t4\n",
      "  (170, 14)\t7\n",
      "  (170, 15)\t5\n",
      "  (170, 16)\t35\n",
      "  (170, 17)\t16\n",
      "  (170, 19)\t2\n",
      "  (171, 0)\t15\n",
      "  (171, 1)\t4\n",
      "  (171, 2)\t2\n",
      "  (171, 3)\t7\n",
      "  (171, 4)\t5\n",
      "  (171, 5)\t4\n",
      "  (171, 6)\t6\n",
      "  (171, 7)\t4\n",
      "  (171, 8)\t10\n",
      "  (171, 9)\t6\n",
      "  (171, 10)\t11\n",
      "  (171, 11)\t3\n",
      "  (171, 14)\t5\n",
      "  (171, 15)\t3\n",
      "  (171, 16)\t23\n",
      "  (171, 17)\t8\n",
      "  (171, 19)\t2\n"
     ]
    }
   ],
   "source": [
    "from sklearn.feature_extraction.text import CountVectorizer\n",
    "cv = CountVectorizer(max_features = 20)\n",
    "\n",
    "cv.fit(df_FOMC['document_data'])\n",
    "results = cv.transform(df_FOMC['document_data'])\n",
    "features = cv.get_feature_names()\n",
    "\n",
    "print(features)\n",
    "print(results)"
   ]
  },
  {
   "cell_type": "markdown",
   "metadata": {
    "id": "UeCCX_Kar_zR"
   },
   "source": [
    "Fed Release"
   ]
  },
  {
   "cell_type": "markdown",
   "metadata": {
    "id": "R8HupFxbsBnP"
   },
   "source": [
    "Financial News Sources"
   ]
  },
  {
   "cell_type": "code",
   "execution_count": null,
   "metadata": {
    "id": "pDywd_XAMZYH"
   },
   "outputs": [],
   "source": []
  }
 ],
 "metadata": {
  "colab": {
   "collapsed_sections": [],
   "include_colab_link": true,
   "name": "W266_Final_Project.ipynb",
   "provenance": []
  },
  "kernelspec": {
   "display_name": "Python 3",
   "language": "python",
   "name": "python3"
  },
  "language_info": {
   "codemirror_mode": {
    "name": "ipython",
    "version": 3
   },
   "file_extension": ".py",
   "mimetype": "text/x-python",
   "name": "python",
   "nbconvert_exporter": "python",
   "pygments_lexer": "ipython3",
   "version": "3.6.8"
  }
 },
 "nbformat": 4,
 "nbformat_minor": 2
}
