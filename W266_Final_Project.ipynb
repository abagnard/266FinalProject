{
  "nbformat": 4,
  "nbformat_minor": 0,
  "metadata": {
    "colab": {
      "name": "W266_Final_Project.ipynb",
      "provenance": [],
      "collapsed_sections": [],
      "include_colab_link": true
    },
    "kernelspec": {
      "name": "python3",
      "display_name": "Python 3"
    }
  },
  "cells": [
    {
      "cell_type": "markdown",
      "metadata": {
        "id": "view-in-github",
        "colab_type": "text"
      },
      "source": [
        "<a href=\"https://colab.research.google.com/github/abagnard/266FinalProject/blob/main/W266_Final_Project.ipynb\" target=\"_parent\"><img src=\"https://colab.research.google.com/assets/colab-badge.svg\" alt=\"Open In Colab\"/></a>"
      ]
    },
    {
      "cell_type": "code",
      "metadata": {
        "id": "NuEJmWAVrVGQ"
      },
      "source": [
        "\n",
        "import os, sys, re, csv, json, time, unittest\n",
        "import itertools, collections\n",
        "from importlib import reload\n",
        "\n",
        "import numpy as np\n",
        "from scipy import stats\n",
        "import pandas as pd\n",
        "\n",
        "import nltk\n",
        "\n"
      ],
      "execution_count": null,
      "outputs": []
    },
    {
      "cell_type": "markdown",
      "metadata": {
        "id": "gife_RnBTLVV"
      },
      "source": [
        "#FOMC Data Scraper\n",
        "\n",
        "###Links to Data:\n",
        "**Start-2014:** https://www.federalreserve.gov/monetarypolicy/fomc_historical_year.htm\n",
        "**2015-2020:** https://www.federalreserve.gov/monetarypolicy/fomccalendars.htm\n",
        "\n",
        "###2010-2020 General Link Format:\n",
        "  **Statement/Press Release:** https://www.federalreserve.gov/newsevents/pressreleases/monetaryYYYYMMDDa.htm\n",
        "\n",
        "**Minutes:** https://www.federalreserve.gov/monetarypolicy/fomcminutesYYYYMMDD.htm"
      ]
    },
    {
      "cell_type": "code",
      "metadata": {
        "id": "sDk_UtX7rxHQ"
      },
      "source": [
        "from   bs4    import BeautifulSoup\n",
        "from   urllib.request import urlopen\n",
        "\n",
        "def getFOMCStatementURL(date):\n",
        "  if date >= 20100000:\n",
        "    url = \"https://www.federalreserve.gov/newsevents/pressreleases/monetary\" + str(date) + \"a.htm\"\n",
        "  return url\n",
        "\n",
        "def getFOMCMinutesURL(date):\n",
        "  if date >= 20100000:\n",
        "    url = \"https://www.federalreserve.gov/monetarypolicy/fomcminutes\" + str(date) + \".htm\"\n",
        "  return url\n",
        "\n",
        "def getFOMCStatementData(date):\n",
        "    html = urlopen(getFOMCStatementURL(date)).read()\n",
        "    soup = BeautifulSoup(html)\n",
        "    text = soup.get_text(\" \")\n",
        "    if int(date) < 20200400:\n",
        "        startLocation = re.search(\"Information received since\", text).start()\n",
        "    else:\n",
        "        startLocation = re.search(\"The Federal Reserve is committed\", text).start()\n",
        "    endLocation = re.search(\"Voting for\", text).start()\n",
        "\n",
        "    statementText = text[startLocation : endLocation]\n",
        "    return statementText\n",
        "\n",
        "def getFOMCMinutesData(date):\n",
        "  html = urlopen(getFOMCMinutesURL(date)).read()\n",
        "  soup = BeautifulSoup(html)\n",
        "  text = soup.get_text(\" \")\n",
        "\n",
        "  startLocation = re.search(\"Minutes of the Federal Open Market Committee\", text).start() + len(\"Minutes of the Federal Open Market Committee\")\n",
        "  endLocation = re.search(\"notation vote\", text).start()\n",
        "\n",
        "  minutesText = text[startLocation : endLocation]\n",
        "  return minutesText\n"
      ],
      "execution_count": 58,
      "outputs": []
    },
    {
      "cell_type": "markdown",
      "metadata": {
        "id": "UF2pao95pO5w"
      },
      "source": [
        "Pull Dates from Google Sheet"
      ]
    },
    {
      "cell_type": "code",
      "metadata": {
        "id": "eRpPsAbMpOLY"
      },
      "source": [
        "# Code Source\n",
        "# https://medium.com/analytics-vidhya/colab-and-google-sheets-surprisingly-powerful-combination-for-data-science-part-1-bbbb11cbd8e\n",
        "\n",
        "# from google.colab import auth\n",
        "# auth.authenticate_user()\n",
        "# import gspread\n",
        "# from oauth2client.client import GoogleCredentials\n",
        "# gc = gspread.authorize(GoogleCredentials.get_application_default())"
      ],
      "execution_count": 61,
      "outputs": []
    },
    {
      "cell_type": "code",
      "metadata": {
        "id": "9O0A2hoLp_Tg"
      },
      "source": [
        "# date_google_sheet_url = gc.open_by_url(\"https://docs.google.com/spreadsheets/d/1Q9_JimVaDffFe8U4SYQ_VLU9-1aeuFXlDZhvTsFD0kg/edit#gid=1023419829\")\n",
        "# date_google_sheet = date_google_sheet_url.worksheet(\"Dates\")\n",
        "# date_data_raw = date_google_sheet.get_all_values()\n",
        "\n",
        "# df_date = pd.DataFrame(date_data_raw)\n",
        "# df_date.columns = df_date.iloc[0]\n",
        "# df_date = df_date.iloc[1:]"
      ],
      "execution_count": 62,
      "outputs": []
    },
    {
      "cell_type": "markdown",
      "metadata": {
        "id": "84oFd3Zo7gaw"
      },
      "source": [
        "Pull Dates from CSV File (in Github)"
      ]
    },
    {
      "cell_type": "code",
      "metadata": {
        "id": "b16tNVr37lAD"
      },
      "source": [
        "# df_date = pd.read_csv(\"data/FOMC_data/FOMC_meeting_dates.csv\")\n",
        "# df_date.head()\n",
        "# dates = df_date[\"Date\"].values.tolist()\n",
        "# dates\n",
        "\n",
        "df_date = pd.read_csv(\"https://raw.githubusercontent.com/abagnard/266FinalProject/main/data/FOMC_data/FOMC_meeting_dates.csv\")\n",
        "df_date.head()\n",
        "dates = df_date[\"Date\"].values.tolist()\n",
        "# dates"
      ],
      "execution_count": 70,
      "outputs": []
    },
    {
      "cell_type": "code",
      "metadata": {
        "id": "p9vEQUY9qfZ9"
      },
      "source": [
        "def createFOMCStatementTextFile():\n",
        "  # file_path = \"/content/drive/My Drive/W266 - NLP/Final Project/data/FOMC_data/FOMC_Raw/\"\n",
        "  file_path = \"data/FOMC_data/FOMC_data_raw/\"\n",
        "  for date in dates:\n",
        "      print(\"Creating Text File: Statement - \", date)\n",
        "      data = getFOMCStatementData(date)\n",
        "      filename = \"FOMCStatement_\" + str(date) + \".txt\"\n",
        "      file = open(file_path+filename, \"w\")\n",
        "      file.write(data)\n",
        "      file.close\n",
        "\n",
        "        \n",
        "def createFOMCMinutesTextFile():\n",
        "  # file_path = \"/content/drive/My Drive/W266 - NLP/Final Project/data/FOMC_data/FOMC_Raw/\"\n",
        "  file_path = \"data/FOMC_data/FOMC_data_raw/\"\n",
        "  for date in dates:\n",
        "      print(\"Creating Text File: Minute - \", date)\n",
        "      data = getFOMCMinutesData(date)\n",
        "      filename = \"FOMCMinutes_\" + str(date) + \".txt\"\n",
        "      file = open(file_path+filename, \"w\")\n",
        "      file.write(data)\n",
        "      file.close\n",
        "\n",
        "        \n",
        "# createFOMCStatementTextFile()\n",
        "# createFOMCMinutesTextFile()"
      ],
      "execution_count": null,
      "outputs": []
    },
    {
      "cell_type": "markdown",
      "metadata": {
        "id": "l2BEYl0ZIb3v"
      },
      "source": [
        "#Clean Data\n",
        "Removes punctuation\n",
        "\n",
        "Creates new clean files"
      ]
    },
    {
      "cell_type": "code",
      "metadata": {
        "id": "Yv1b-YQnIVzI"
      },
      "source": [
        "def cleanFOMCDocument(raw_file_name):\n",
        "    raw_data = open(raw_file_name,\"r\").read().lower()\n",
        "    clean_data = raw_data\n",
        "\n",
        "    # remove punctuation except for periods ('.')\n",
        "    for todelete in [\"\\r\\n\", \"\\n\", \"\\t\", \",\", \"-\", \";\", \":\", \"  \"]:\n",
        "        clean_data = clean_data.replace(todelete, ' ')\n",
        "    return clean_data\n",
        "\n",
        "import glob\n",
        "raw_file_names = glob.glob('data/FOMC_data/FOMC_data_raw/*.txt')\n",
        "\n",
        "def createCleanFOMCTextFiles(raw_file_names):\n",
        "    file_path = 'data/FOMC_data/FOMC_data_clean/'\n",
        "    \n",
        "    for raw_file_name in raw_file_names:\n",
        "        file_name = raw_file_name.split('/')[-1]\n",
        "        print(\"Creating Text File: \", file_name)\n",
        "        data = cleanFOMCDocument(raw_file_name)\n",
        "        \n",
        "        file = open(file_path+file_name, \"w\")\n",
        "        file.write(data)\n",
        "        file.close\n",
        "        \n",
        "# createCleanFOMCTextFiles(raw_file_names)"
      ],
      "execution_count": 71,
      "outputs": []
    },
    {
      "cell_type": "markdown",
      "metadata": {
        "id": "7S_DSWVPfzIz"
      },
      "source": [
        "#Create Dataframe with FOMC document data"
      ]
    },
    {
      "cell_type": "code",
      "metadata": {
        "id": "y7qkKvs_fzjm"
      },
      "source": [
        "clean_file_names = glob.glob('data/FOMC_data/FOMC_data_clean/*.txt')\n",
        "\n",
        "FOMC_records = []\n",
        "for clean_file_name in clean_file_names:\n",
        "    date = clean_file_name.split('/')[-1].split('_')[-1][:-4]\n",
        "    file_type = 'minutes' if 'Minutes' in clean_file_name else 'statement'\n",
        "    press_conference = df_date[df_date['Date'] == int(date)].iloc[0]['PressConference']\n",
        "    data = open(clean_file_name).read()\n",
        "    \n",
        "    FOMC_record = {'FOMC_date': date, 'document_type': file_type, 'press_conference': press_conference, 'document_data': data}\n",
        "    FOMC_records.append(FOMC_record)\n",
        "\n",
        "\n",
        "df_FOMC = pd.DataFrame(FOMC_records)\n",
        "df_FOMC.FOMC_date = pd.to_datetime(df_FOMC.FOMC_date, format='%Y%m%d')\n",
        "df_FOMC.head()"
      ],
      "execution_count": null,
      "outputs": []
    },
    {
      "cell_type": "code",
      "metadata": {
        "id": "OuCzAWvnf9CJ"
      },
      "source": [
        "df_FOMC.describe(include='all')"
      ],
      "execution_count": null,
      "outputs": []
    },
    {
      "cell_type": "markdown",
      "metadata": {
        "id": "-PMF4hGzr8dy"
      },
      "source": [
        "Fed Note\n"
      ]
    },
    {
      "cell_type": "markdown",
      "metadata": {
        "id": "UeCCX_Kar_zR"
      },
      "source": [
        "Fed Release"
      ]
    },
    {
      "cell_type": "markdown",
      "metadata": {
        "id": "R8HupFxbsBnP"
      },
      "source": [
        "Financial News Sources"
      ]
    },
    {
      "cell_type": "code",
      "metadata": {
        "id": "pDywd_XAMZYH"
      },
      "source": [
        ""
      ],
      "execution_count": null,
      "outputs": []
    }
  ]
}