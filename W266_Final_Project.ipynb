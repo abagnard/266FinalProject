{
  "nbformat": 4,
  "nbformat_minor": 0,
  "metadata": {
    "colab": {
      "name": "W266_Final_Project.ipynb",
      "provenance": [],
      "collapsed_sections": [],
      "include_colab_link": true
    },
    "kernelspec": {
      "name": "python3",
      "display_name": "Python 3"
    }
  },
  "cells": [
    {
      "cell_type": "markdown",
      "metadata": {
        "id": "view-in-github",
        "colab_type": "text"
      },
      "source": [
        "<a href=\"https://colab.research.google.com/github/abagnard/266FinalProject/blob/main/W266_Final_Project.ipynb\" target=\"_parent\"><img src=\"https://colab.research.google.com/assets/colab-badge.svg\" alt=\"Open In Colab\"/></a>"
      ]
    },
    {
      "cell_type": "code",
      "metadata": {
        "id": "NuEJmWAVrVGQ"
      },
      "source": [
        "\n",
        "import os, sys, re, csv, json, time, unittest\n",
        "import itertools, collections\n",
        "from importlib import reload\n",
        "\n",
        "import numpy as np\n",
        "from scipy import stats\n",
        "\n",
        "import nltk\n",
        "\n"
      ],
      "execution_count": null,
      "outputs": []
    },
    {
      "cell_type": "markdown",
      "metadata": {
        "id": "gife_RnBTLVV"
      },
      "source": [
        "FOMC Data"
      ]
    },
    {
      "cell_type": "code",
      "metadata": {
        "id": "MkvPAxajTHSd"
      },
      "source": [
        "# 2010-2020 General Format:\n",
        "  # Statement/Press Release:\n",
        "    #https://www.federalreserve.gov/newsevents/pressreleases/monetaryYYYYMMDDa.htm\n",
        "  # Minutes:\n",
        "    # https://www.federalreserve.gov/monetarypolicy/fomcminutesYYYYMMDD.htm\n",
        "\n",
        "# General Links:\n",
        "# Start-2014: https://www.federalreserve.gov/monetarypolicy/fomc_historical_year.htm\n",
        "# 2015-2020: https://www.federalreserve.gov/monetarypolicy/fomccalendars.htm"
      ],
      "execution_count": null,
      "outputs": []
    },
    {
      "cell_type": "code",
      "metadata": {
        "id": "sDk_UtX7rxHQ"
      },
      "source": [
        "from   bs4    import BeautifulSoup\n",
        "from   urllib.request import urlopen\n",
        "\n",
        "def getFOMCStatementURL(date):\n",
        "  if date >= 20100000:\n",
        "    url = \"https://www.federalreserve.gov/newsevents/pressreleases/monetary/\" + date + \"a.htm\"\n",
        "  return url\n",
        "\n",
        "def getFOMCMinutesURL(date):\n",
        "  if date >= 20100000:\n",
        "    url = \"https://www.federalreserve.gov/monetarypolicy/fomcminutes\" + date + \".htm\"\n",
        "  return url\n",
        "\n",
        "def getFOMCStatementData(date):\n",
        "  html = urlopen(getFOMCStatementURL(date)).read()\n",
        "  soup = BeautifulSoup(html)\n",
        "  text = soup.get_text(\" \")\n",
        "\n",
        "  startLocation = re.search(\"For immediate release\", allText).start() + len(\"For immediate release\")\n",
        "  endLocation = re.search(\"Voting for\", allText).start()\n",
        "\n",
        "  statementText = text[startLocation : endLocation]\n",
        "  return statementText\n",
        "\n",
        "def getFOMCMinutesData(data):\n",
        "  html = urlopen(getFOMCMinutesURL(date)).read()\n",
        "  soup = BeautifulSoup(html)\n",
        "  text = soup.get_text(\" \")\n",
        "\n",
        "  startLocation = re.search(\"Minutes of the Federal Open Market Committee\", allText).start() + len(\"Minutes of the Federal Open Market Committee\")\n",
        "  endLocation = re.search(\"Notation Vote\", allText).start()\n",
        "\n",
        "  minutesText = text[startLocation : endLocation]\n",
        "  return minutesText\n",
        "\n",
        "\n",
        "# Press Release Test Code\n",
        "  html = urlopen(\"https://www.federalreserve.gov/newsevents/pressreleases/monetary20150128a.htm\").read()\n",
        "  soup = BeautifulSoup(html)\n",
        "  allText = soup.get_text(\" \")\n",
        "  startLocation = re.search(\"For immediate release\", allText).start() + len(\"For immediate release\")\n",
        "  endLocation = re.search(\"Voting for\", allText).start()\n",
        "  statementText = allText[startLocation : endLocation]\n",
        "\n"
      ],
      "execution_count": null,
      "outputs": []
    },
    {
      "cell_type": "code",
      "metadata": {
        "id": "OFQntaDN80SA",
        "outputId": "4263a0ce-176d-4e9d-eb51-14547c17154c",
        "colab": {
          "base_uri": "https://localhost:8080/",
          "height": 222
        }
      },
      "source": [
        "statementText\n"
      ],
      "execution_count": null,
      "outputs": [
        {
          "output_type": "execute_result",
          "data": {
            "application/vnd.google.colaboratory.intrinsic+json": {
              "type": "string"
            },
            "text/plain": [
              "'                     \\n                \\n                 \\n \\n Share \\n \\n \\n \\n \\n \\n \\n \\n \\n \\n \\n \\n \\n \\n \\n \\n \\n \\n \\n \\n \\n \\n \\n \\n \\n \\n \\n \\n \\n       Information received since the Federal Open Market Committee met in December suggests that economic activity has been expanding at a solid pace.\\xa0 Labor market conditions have improved further, with strong job gains and a lower unemployment rate.\\xa0 On balance, a range of labor market indicators suggests that underutilization of labor resources continues to diminish.\\xa0 Household spending is rising moderately; recent declines in energy prices have boosted household purchasing power.\\xa0 Business fixed investment is advancing, while the recovery in the housing sector remains slow.\\xa0 Inflation has declined further below the Committee’s longer-run objective, largely reflecting declines in energy prices.\\xa0 Market-based measures of inflation compensation have declined substantially in recent months; survey-based measures of longer-term inflation expectations have remained stable.\\n     \\n \\n       Consistent with its statutory mandate, the Committee seeks to foster maximum employment and price stability.\\xa0 The Committee expects that, with appropriate policy accommodation, economic activity will expand at a moderate pace, with labor market indicators continuing to move toward levels the Committee judges consistent with its dual mandate.\\xa0 The Committee continues to see the risks to the outlook for economic activity and the labor market as nearly balanced.\\xa0 Inflation is anticipated to decline further in the near term, but the Committee expects inflation to rise gradually toward 2 percent over the medium term as the labor market improves further and the transitory effects of lower energy prices and other factors dissipate.\\xa0 The Committee continues to monitor inflation developments closely.\\n     \\n \\n       To support continued progress toward maximum employment and price stability, the Committee today reaffirmed its view that the current 0 to 1/4 percent target range for the federal funds rate remains appropriate.\\xa0 In determining how long to maintain this target range, the Committee will assess progress--both realized and expected--toward its objectives of maximum employment and 2 percent inflation.\\xa0 This assessment will take into account a wide range of information, including measures of labor market conditions, indicators of inflation pressures and inflation expectations, and readings on financial and international developments.\\xa0 Based on its current assessment, the Committee judges that it can be patient in beginning to normalize the stance of monetary policy.\\xa0 However, if incoming information indicates faster progress toward the Committee’s employment and inflation objectives than the Committee now expects, then increases in the target range for the federal funds rate are likely to occur sooner than currently anticipated.\\xa0 Conversely, if progress proves slower than expected, then increases in the target range are likely to occur later than currently anticipated.\\n     \\n \\n       The Committee is maintaining its existing policy of reinvesting principal payments from its holdings of agency debt and agency mortgage-backed securities in agency mortgage-backed securities and of rolling over maturing Treasury securities at auction.\\xa0 This policy, by keeping the Committee’s holdings of longer-term securities at sizable levels, should help maintain accommodative financial conditions.\\n     \\n \\n       When the Committee decides to begin to remove policy accommodation, it will take a balanced approach consistent with its longer-run goals of maximum employment and inflation of 2 percent.\\xa0 The Committee currently anticipates that, even after employment and inflation are near mandate-consistent levels, economic conditions may, for some time, warrant keeping the target federal funds rate below levels the Committee views as normal in the longer run.\\n     \\n \\n       '"
            ]
          },
          "metadata": {
            "tags": []
          },
          "execution_count": 18
        }
      ]
    },
    {
      "cell_type": "markdown",
      "metadata": {
        "id": "-PMF4hGzr8dy"
      },
      "source": [
        "Fed Note\n"
      ]
    },
    {
      "cell_type": "markdown",
      "metadata": {
        "id": "UeCCX_Kar_zR"
      },
      "source": [
        "Fed Release"
      ]
    },
    {
      "cell_type": "markdown",
      "metadata": {
        "id": "R8HupFxbsBnP"
      },
      "source": [
        "Financial News Sources"
      ]
    },
    {
      "cell_type": "code",
      "metadata": {
        "id": "pDywd_XAMZYH"
      },
      "source": [
        ""
      ],
      "execution_count": null,
      "outputs": []
    }
  ]
}