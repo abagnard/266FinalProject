{
  "nbformat": 4,
  "nbformat_minor": 0,
  "metadata": {
    "colab": {
      "name": "W266_Final_Project.ipynb",
      "provenance": [],
      "collapsed_sections": [],
      "include_colab_link": true
    },
    "kernelspec": {
      "name": "python3",
      "display_name": "Python 3"
    }
  },
  "cells": [
    {
      "cell_type": "markdown",
      "metadata": {
        "id": "view-in-github",
        "colab_type": "text"
      },
      "source": [
        "<a href=\"https://colab.research.google.com/github/abagnard/266FinalProject/blob/main/W266_Final_Project.ipynb\" target=\"_parent\"><img src=\"https://colab.research.google.com/assets/colab-badge.svg\" alt=\"Open In Colab\"/></a>"
      ]
    },
    {
      "cell_type": "code",
      "metadata": {
        "id": "NuEJmWAVrVGQ"
      },
      "source": [
        "\n",
        "import os, sys, re, csv, json, time, unittest\n",
        "import itertools, collections\n",
        "from importlib import reload\n",
        "\n",
        "import numpy as np\n",
        "from scipy import stats\n",
        "import pandas as pd\n",
        "\n",
        "import nltk\n",
        "\n"
      ],
      "execution_count": null,
      "outputs": []
    },
    {
      "cell_type": "markdown",
      "metadata": {
        "id": "gife_RnBTLVV"
      },
      "source": [
        "#FOMC Data Scraper\n",
        "\n",
        "###Links to Data:\n",
        "**Start-2014:** https://www.federalreserve.gov/monetarypolicy/fomc_historical_year.htm\n",
        "**2015-2020:** https://www.federalreserve.gov/monetarypolicy/fomccalendars.htm\n",
        "\n",
        "###2010-2020 General Link Format:\n",
        "  **Statement/Press Release:** https://www.federalreserve.gov/newsevents/pressreleases/monetaryYYYYMMDDa.htm\n",
        "\n",
        "**Minutes:** https://www.federalreserve.gov/monetarypolicy/fomcminutesYYYYMMDD.htm"
      ]
    },
    {
      "cell_type": "code",
      "metadata": {
        "id": "sDk_UtX7rxHQ"
      },
      "source": [
        "from   bs4    import BeautifulSoup\n",
        "from   urllib.request import urlopen\n",
        "\n",
        "def getFOMCStatementURL(date):\n",
        "  if date >= 20100000:\n",
        "    url = \"https://www.federalreserve.gov/newsevents/pressreleases/monetary\" + str(date) + \"a.htm\"\n",
        "  return url\n",
        "\n",
        "def getFOMCMinutesURL(date):\n",
        "  if date >= 20100000:\n",
        "    url = \"https://www.federalreserve.gov/monetarypolicy/fomcminutes\" + str(date) + \".htm\"\n",
        "  return url\n",
        "\n",
        "def getFOMCStatementData(date):\n",
        "  html = urlopen(getFOMCStatementURL(date)).read()\n",
        "  soup = BeautifulSoup(html)\n",
        "  text = soup.get_text(\" \")\n",
        "\n",
        "  startLocation = re.search(\"For immediate release\", text).start() + len(\"For immediate release\")\n",
        "  endLocation = re.search(\"Voting for\", text).start()\n",
        "\n",
        "  statementText = text[startLocation : endLocation]\n",
        "  return statementText\n",
        "\n",
        "def getFOMCMinutesData(date):\n",
        "  html = urlopen(getFOMCMinutesURL(date)).read()\n",
        "  soup = BeautifulSoup(html)\n",
        "  text = soup.get_text(\" \")\n",
        "\n",
        "  startLocation = re.search(\"Minutes of the Federal Open Market Committee\", text).start() + len(\"Minutes of the Federal Open Market Committee\")\n",
        "  endLocation = re.search(\"Notation Vote\", text).start()\n",
        "\n",
        "  minutesText = text[startLocation : endLocation]\n",
        "  return minutesText\n"
      ],
      "execution_count": null,
      "outputs": []
    },
    {
      "cell_type": "code",
      "metadata": {
        "id": "sTkhJhPFmPPb",
        "outputId": "49342531-8e55-4e0f-f6ab-64359c1c945f",
        "colab": {
          "base_uri": "https://localhost:8080/",
          "height": 130
        }
      },
      "source": [
        "# from google.colab import drive\n",
        "# drive.mount('/content/drive')\n"
      ],
      "execution_count": null,
      "outputs": [
        {
          "output_type": "error",
          "ename": "SyntaxError",
          "evalue": "ignored",
          "traceback": [
            "\u001b[0;36m  File \u001b[0;32m\"<ipython-input-15-f3cad8d3b357>\"\u001b[0;36m, line \u001b[0;32m4\u001b[0m\n\u001b[0;31m    file1 = \"W266_Final_Project.ipynb\"\"\u001b[0m\n\u001b[0m                                       ^\u001b[0m\n\u001b[0;31mSyntaxError\u001b[0m\u001b[0;31m:\u001b[0m EOL while scanning string literal\n"
          ]
        }
      ]
    },
    {
      "cell_type": "code",
      "metadata": {
        "id": "AHK_3O9xkH8R"
      },
      "source": [
        "dates = [20100127\n",
        ",20100316\n",
        ",20100428]\n",
        "# for date in dates:\n",
        "#   print(\"Statement on \", date)\n",
        "#   print(getFOMCStatementData(date))\n",
        "\n",
        "\n",
        "# for date in dates:\n",
        "#   print(\"Minutes on \", date)\n",
        "#   print(getFOMCMinutesData(date))\n"
      ],
      "execution_count": null,
      "outputs": []
    },
    {
      "cell_type": "markdown",
      "metadata": {
        "id": "UF2pao95pO5w"
      },
      "source": [
        "Pull Dates from Google Sheet"
      ]
    },
    {
      "cell_type": "code",
      "metadata": {
        "id": "eRpPsAbMpOLY"
      },
      "source": [
        "# Code Source\n",
        "# https://medium.com/analytics-vidhya/colab-and-google-sheets-surprisingly-powerful-combination-for-data-science-part-1-bbbb11cbd8e\n",
        "\n",
        "from google.colab import auth\n",
        "auth.authenticate_user()\n",
        "import gspread\n",
        "from oauth2client.client import GoogleCredentials\n",
        "gc = gspread.authorize(GoogleCredentials.get_application_default())"
      ],
      "execution_count": null,
      "outputs": []
    },
    {
      "cell_type": "code",
      "metadata": {
        "id": "9O0A2hoLp_Tg",
        "outputId": "f1429e0d-63d2-4af8-c678-1e4b4155176a",
        "colab": {
          "base_uri": "https://localhost:8080/",
          "height": 204
        }
      },
      "source": [
        "date_google_sheet_url = gc.open_by_url(\"https://docs.google.com/spreadsheets/d/1Q9_JimVaDffFe8U4SYQ_VLU9-1aeuFXlDZhvTsFD0kg/edit#gid=1023419829\")\n",
        "date_google_sheet = date_google_sheet_url.worksheet(\"Dates\")\n",
        "date_data_raw = date_google_sheet.get_all_values()\n",
        "\n",
        "df_date = pd.DataFrame(date_data_raw)\n",
        "df_date.columns = df_date.iloc[0]\n",
        "df_date = df_date.iloc[1:]\n",
        "\n",
        "df_date.head()\n",
        "dates = df_date[\"Date\"].values.tolist()"
      ],
      "execution_count": null,
      "outputs": [
        {
          "output_type": "execute_result",
          "data": {
            "text/html": [
              "<div>\n",
              "<style scoped>\n",
              "    .dataframe tbody tr th:only-of-type {\n",
              "        vertical-align: middle;\n",
              "    }\n",
              "\n",
              "    .dataframe tbody tr th {\n",
              "        vertical-align: top;\n",
              "    }\n",
              "\n",
              "    .dataframe thead th {\n",
              "        text-align: right;\n",
              "    }\n",
              "</style>\n",
              "<table border=\"1\" class=\"dataframe\">\n",
              "  <thead>\n",
              "    <tr style=\"text-align: right;\">\n",
              "      <th></th>\n",
              "      <th>Date</th>\n",
              "      <th>PressConference</th>\n",
              "    </tr>\n",
              "  </thead>\n",
              "  <tbody>\n",
              "    <tr>\n",
              "      <th>1</th>\n",
              "      <td>20100127</td>\n",
              "      <td>0</td>\n",
              "    </tr>\n",
              "    <tr>\n",
              "      <th>2</th>\n",
              "      <td>20100316</td>\n",
              "      <td>0</td>\n",
              "    </tr>\n",
              "    <tr>\n",
              "      <th>3</th>\n",
              "      <td>20100428</td>\n",
              "      <td>0</td>\n",
              "    </tr>\n",
              "    <tr>\n",
              "      <th>4</th>\n",
              "      <td>20100623</td>\n",
              "      <td>0</td>\n",
              "    </tr>\n",
              "    <tr>\n",
              "      <th>5</th>\n",
              "      <td>20100810</td>\n",
              "      <td>0</td>\n",
              "    </tr>\n",
              "  </tbody>\n",
              "</table>\n",
              "</div>"
            ],
            "text/plain": [
              "0      Date PressConference\n",
              "1  20100127               0\n",
              "2  20100316               0\n",
              "3  20100428               0\n",
              "4  20100623               0\n",
              "5  20100810               0"
            ]
          },
          "metadata": {
            "tags": []
          },
          "execution_count": 3
        }
      ]
    },
    {
      "cell_type": "code",
      "metadata": {
        "id": "p9vEQUY9qfZ9"
      },
      "source": [
        "def createFOMCStatementTxtFile():\n",
        "  file_path = \"/content/drive/My Drive/W266 - NLP/Final Project/data/FOMC_data/FOMC_Raw/\"\n",
        "  for date in dates:\n",
        "    data = getFOMCStatementData(date)\n",
        "    filename = \"FOMCStatement_\" + date + \".txt\"\n",
        "    file = open(file_path+filename, \"w\")\n",
        "    file.write(data)\n",
        "    file.close"
      ],
      "execution_count": 54,
      "outputs": []
    },
    {
      "cell_type": "code",
      "metadata": {
        "id": "AAMg-LHzsuus",
        "outputId": "ea61ddc3-a3f2-47bf-c0fb-cb6f396e10a6",
        "colab": {
          "base_uri": "https://localhost:8080/",
          "height": 235
        }
      },
      "source": [
        "from google.colab import drive\n",
        "drive.mount('/content/drive')\n",
        "# cd /content/drive/'My Drive'/'W266 - NLP'/'Final Project'"
      ],
      "execution_count": 55,
      "outputs": [
        {
          "output_type": "stream",
          "text": [
            "Drive already mounted at /content/drive; to attempt to forcibly remount, call drive.mount(\"/content/drive\", force_remount=True).\n"
          ],
          "name": "stdout"
        },
        {
          "output_type": "error",
          "ename": "NameError",
          "evalue": "ignored",
          "traceback": [
            "\u001b[0;31m---------------------------------------------------------------------------\u001b[0m",
            "\u001b[0;31mNameError\u001b[0m                                 Traceback (most recent call last)",
            "\u001b[0;32m<ipython-input-55-1cac337a8b43>\u001b[0m in \u001b[0;36m<module>\u001b[0;34m()\u001b[0m\n\u001b[1;32m      1\u001b[0m \u001b[0;32mfrom\u001b[0m \u001b[0mgoogle\u001b[0m\u001b[0;34m.\u001b[0m\u001b[0mcolab\u001b[0m \u001b[0;32mimport\u001b[0m \u001b[0mdrive\u001b[0m\u001b[0;34m\u001b[0m\u001b[0;34m\u001b[0m\u001b[0m\n\u001b[1;32m      2\u001b[0m \u001b[0mdrive\u001b[0m\u001b[0;34m.\u001b[0m\u001b[0mmount\u001b[0m\u001b[0;34m(\u001b[0m\u001b[0;34m'/content/drive'\u001b[0m\u001b[0;34m)\u001b[0m\u001b[0;34m\u001b[0m\u001b[0;34m\u001b[0m\u001b[0m\n\u001b[0;32m----> 3\u001b[0;31m \u001b[0mcd\u001b[0m \u001b[0;34m/\u001b[0m\u001b[0mcontent\u001b[0m\u001b[0;34m/\u001b[0m\u001b[0mdrive\u001b[0m\u001b[0;34m/\u001b[0m\u001b[0;34m'My Drive'\u001b[0m\u001b[0;34m/\u001b[0m\u001b[0;34m'W266 - NLP'\u001b[0m\u001b[0;34m/\u001b[0m\u001b[0;34m'Final Project'\u001b[0m\u001b[0;34m\u001b[0m\u001b[0;34m\u001b[0m\u001b[0m\n\u001b[0m",
            "\u001b[0;31mNameError\u001b[0m: name 'cd' is not defined"
          ]
        }
      ]
    },
    {
      "cell_type": "code",
      "metadata": {
        "id": "5I1OFda3tSrh"
      },
      "source": [
        "ls /content/drive/\"My Drive\"/\"W266 - NLP\"/\"Final Project\"/data/FOMC_data/FOMC_Raw\n"
      ],
      "execution_count": 56,
      "outputs": []
    },
    {
      "cell_type": "markdown",
      "metadata": {
        "id": "-PMF4hGzr8dy"
      },
      "source": [
        "Fed Note\n"
      ]
    },
    {
      "cell_type": "markdown",
      "metadata": {
        "id": "UeCCX_Kar_zR"
      },
      "source": [
        "Fed Release"
      ]
    },
    {
      "cell_type": "markdown",
      "metadata": {
        "id": "R8HupFxbsBnP"
      },
      "source": [
        "Financial News Sources"
      ]
    },
    {
      "cell_type": "code",
      "metadata": {
        "id": "pDywd_XAMZYH"
      },
      "source": [
        ""
      ],
      "execution_count": null,
      "outputs": []
    }
  ]
}